{
 "cells": [
  {
   "cell_type": "markdown",
   "metadata": {},
   "source": [
    "<center>\n",
    "    <img src=\"https://cf-courses-data.s3.us.cloud-object-storage.appdomain.cloud/IBMDeveloperSkillsNetwork-DS0105EN-SkillsNetwork/labs/Module2/images/SN_web_lightmode.png\" width=\"300\" alt=\"cognitiveclass.ai logo\">\n",
    "</center>\n"
   ]
  },
  {
   "cell_type": "markdown",
   "metadata": {},
   "source": [
    "#### Add your code below following the instructions given in the course\n"
   ]
  },
  {
   "cell_type": "markdown",
   "metadata": {},
   "source": [
    "# Title \n",
    "Anirban's Jypyter Notebook"
   ]
  },
  {
   "cell_type": "markdown",
   "metadata": {},
   "source": [
    "# Introduction\n",
    "This is my Test Assignment. Pls go thru & Help to assess. "
   ]
  },
  {
   "cell_type": "markdown",
   "metadata": {},
   "source": [
    "# Data Science Languages\n",
    "\n",
    "Below is a list of popular programming languages used in Data Science:\n",
    "\n",
    "- Python\n",
    "- R\n",
    "- SQL\n",
    "- Julia\n",
    "- Scala\n",
    "- Java\n",
    "- MATLAB\n",
    "  "
   ]
  },
  {
   "cell_type": "markdown",
   "metadata": {},
   "source": [
    "# Data Science Libraries\n",
    "\n",
    "Below is a list of popular libraries used in Data Science:\n",
    "\n",
    "- **NumPy**: For numerical computing and handling arrays.\n",
    "- **Pandas**: For data manipulation and analysis.\n",
    "- **Matplotlib**: For data visualization.\n",
    "- **Seaborn**: For statistical data visualization.\n",
    "- **Scikit-learn**: For machine learning algorithms and models.\n",
    "- **TensorFlow**: For deep learning and neural networks.\n",
    "- **Keras**: High-level neural networks API, built on top of TensorFlow.\n",
    "- **PyTorch**: A deep learning framework for building neural networks.\n",
    "- **Statsmodels**: For statistical modeling and hypothesis testing.\n",
    "- **NLTK**: For natural language processing."
   ]
  },
  {
   "cell_type": "markdown",
   "metadata": {},
   "source": [
    "# Data Science Tools\n",
    "\n",
    "Below is a table of commonly used Data Science tools:\n",
    "\n",
    "| Tool            | Description                                      |\n",
    "|-----------------|--------------------------------------------------|\n",
    "| **Python**      | A programming language for data analysis, visualization, and machine learning. |\n",
    "| **R**           | A language and environment for statistical computing and graphics. |\n",
    "| **Jupyter**     | An open-source web application for creating and sharing live code, equations, visualizations. |\n",
    "| **TensorFlow**  | A library for machine learning and artificial intelligence. |\n",
    "| **Scikit-learn**| A library for machine learning in Python. |\n",
    "| **Tableau**     | A data visualization tool for business intelligence. |\n",
    "| **SQL**         | A language for managing and querying relational databases. |\n",
    "| **Excel**       | A spreadsheet software for data analysis and visualization. |"
   ]
  },
  {
   "cell_type": "markdown",
   "metadata": {},
   "source": [
    "# Arithmetic Expression Examples\n",
    "\n",
    "In this section, we will explore some basic **arithmetic expressions** that are commonly used in programming and data science.\n",
    "\n",
    "### Examples:\n",
    "\n",
    "1. **Addition**:  \n",
    "   Adding two numbers:  \n",
    "   `5 + 3 = 8`\n",
    "\n",
    "2. **Subtraction**:  \n",
    "   Subtracting one number from another:  \n",
    "   `10 - 4 = 6`\n",
    "\n",
    "3. **Multiplication**:  \n",
    "   Multiplying two numbers:  \n",
    "   `7 * 6 = 42`\n",
    "\n",
    "4. **Division**:  \n",
    "   Dividing one number by another:  \n",
    "   `20 / 4 = 5`\n",
    "\n",
    "5. **Exponentiation**:  \n",
    "   Raising a number to the power of another:  \n",
    "   `2^3 = 8`\n",
    "\n",
    "6. **Modulus**:  \n",
    "   Finding the remainder when dividing:  \n",
    "   `10 % 3 = 1`\n"
   ]
  },
  {
   "cell_type": "code",
   "execution_count": 9,
   "metadata": {},
   "outputs": [
    {
     "name": "stdout",
     "output_type": "stream",
     "text": [
      "Multiplication of 5 and 3 is: 15\n",
      "Addition of 5 and 7 is: 12\n"
     ]
    }
   ],
   "source": [
    "# Multiplication and Addition of numbers\n",
    "\n",
    "# Defining numbers\n",
    "num1 = 5\n",
    "num2 = 3\n",
    "num3 = 7\n",
    "\n",
    "# Multiplication\n",
    "multiplication_result = num1 * num2\n",
    "\n",
    "# Addition\n",
    "addition_result = num1 + num3\n",
    "\n",
    "# Output the results\n",
    "print(\"Multiplication of\", num1, \"and\", num2, \"is:\", multiplication_result)\n",
    "print(\"Addition of\", num1, \"and\", num3, \"is:\", addition_result)\n"
   ]
  },
  {
   "cell_type": "code",
   "execution_count": 10,
   "metadata": {},
   "outputs": [
    {
     "name": "stdout",
     "output_type": "stream",
     "text": [
      "150 minutes is equal to 2.5 hours.\n"
     ]
    }
   ],
   "source": [
    "# Convert minutes to hours\n",
    "\n",
    "# Define the number of minutes\n",
    "minutes = 150\n",
    "\n",
    "# Conversion formula\n",
    "hours = minutes / 60\n",
    "\n",
    "# Output the result\n",
    "print(f\"{minutes} minutes is equal to {hours} hours.\")\n"
   ]
  },
  {
   "cell_type": "markdown",
   "metadata": {},
   "source": [
    "# Objectives\n",
    "\n",
    "The main objectives of this notebook are:\n",
    "\n",
    "1. Understand the basic concepts of arithmetic operations in programming.\n",
    "2. Learn how to perform conversions between different units (e.g., minutes to hours).\n",
    "3. Explore the use of data science tools and libraries.\n",
    "4. Develop proficiency in using Python for data manipulation and analysis.\n",
    "5. Gain practical experience with Jupyter Notebooks for creating and documenting data science workflows.\n"
   ]
  },
  {
   "cell_type": "markdown",
   "metadata": {},
   "source": [
    "# Author \n",
    "Anirban Sam"
   ]
  },
  {
   "cell_type": "code",
   "execution_count": null,
   "metadata": {},
   "outputs": [],
   "source": []
  }
 ],
 "metadata": {
  "kernelspec": {
   "display_name": "Python 3 (ipykernel)",
   "language": "python",
   "name": "python3"
  },
  "language_info": {
   "codemirror_mode": {
    "name": "ipython",
    "version": 3
   },
   "file_extension": ".py",
   "mimetype": "text/x-python",
   "name": "python",
   "nbconvert_exporter": "python",
   "pygments_lexer": "ipython3",
   "version": "3.11.9"
  }
 },
 "nbformat": 4,
 "nbformat_minor": 4
}
